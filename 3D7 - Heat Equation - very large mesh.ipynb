{
  "nbformat": 4,
  "nbformat_minor": 0,
  "metadata": {
    "kernelspec": {
      "name": "python3",
      "display_name": "Python 3",
      "language": "python"
    },
    "language_info": {
      "mimetype": "text/x-python",
      "nbconvert_exporter": "python",
      "name": "python",
      "file_extension": ".py",
      "version": "3.5.4",
      "pygments_lexer": "ipython3",
      "codemirror_mode": {
        "version": 3,
        "name": "ipython"
      }
    },
    "colab": {
      "name": "3D7 - Heat Equation - very large mesh.ipynb",
      "provenance": [],
      "include_colab_link": true
    }
  },
  "cells": [
    {
      "cell_type": "markdown",
      "metadata": {
        "id": "view-in-github",
        "colab_type": "text"
      },
      "source": [
        "<a href=\"https://colab.research.google.com/github/chrisrichardson/FEMexamples/blob/main/3D7%20-%20Heat%20Equation%20-%20very%20large%20mesh.ipynb\" target=\"_parent\"><img src=\"https://colab.research.google.com/assets/colab-badge.svg\" alt=\"Open In Colab\"/></a>"
      ]
    },
    {
      "cell_type": "markdown",
      "metadata": {
        "id": "HfbyMIaJSuFx"
      },
      "source": [
        "# Heat Equation - with a larger mesh\n",
        "### Sparse linear algebra\n",
        "\n",
        "First import the required libraries for basic algebra and plotting. For larger problems, we use the scipy\n",
        "sparse package, only storing non-zero entries in the LHS matrix."
      ]
    },
    {
      "cell_type": "code",
      "metadata": {
        "trusted": true,
        "id": "Rm4W6yXFSuFz"
      },
      "source": [
        "from numpy import *\n",
        "from scipy.sparse import csr_matrix, lil_matrix\n",
        "from scipy.sparse.linalg import spsolve\n",
        "set_printoptions(suppress=True)\n",
        "import matplotlib.pyplot as plt\n",
        "%matplotlib inline"
      ],
      "execution_count": 1,
      "outputs": []
    },
    {
      "cell_type": "markdown",
      "metadata": {
        "id": "imL6xqS2SuF8"
      },
      "source": [
        "### Mesh\n",
        "\n",
        "The mesh is made the same way as before."
      ]
    },
    {
      "cell_type": "code",
      "metadata": {
        "trusted": true,
        "id": "rAzLybLHSuF9"
      },
      "source": [
        "\n",
        "# Make a rectangular mesh of triangles, nx by ny \n",
        "nx = 250\n",
        "ny = 250\n",
        "\n",
        "c = 0\n",
        "geometry = zeros((nx*ny, 2), dtype='float')\n",
        "for i in range(nx):\n",
        "    for j in range(ny):\n",
        "        geometry[c] = [float(i)/(nx-1), float(j)/(ny-1)]\n",
        "        c += 1\n",
        "\n",
        "ntri = (nx - 1)*(ny - 1)*2\n",
        "topology = zeros((ntri, 3), dtype='int')\n",
        "\n",
        "c = 0\n",
        "for i in range(nx - 1):\n",
        "    for j in range(ny - 1):\n",
        "        ij = j + i*ny\n",
        "        topology[c] = [ij, ij+ny, ij+ny+1]\n",
        "        topology[c + 1] = [ij+1, ij, ij+ny+1]\n",
        "        c += 2\n",
        "        \n",
        "mesh = (geometry, topology)"
      ],
      "execution_count": 2,
      "outputs": []
    },
    {
      "cell_type": "markdown",
      "metadata": {
        "id": "ZqZhkoQRSuGC"
      },
      "source": [
        "Here is a simple plotting routine to display the data values"
      ]
    },
    {
      "cell_type": "code",
      "metadata": {
        "trusted": true,
        "id": "CsJZ5TAZSuGD"
      },
      "source": [
        "def plot(mesh, data):\n",
        "    geom, topo = mesh\n",
        "    x = geom[:,0]\n",
        "    y = geom[:,1]\n",
        "\n",
        "    plt.gca(aspect='equal')\n",
        "    plt.tricontourf(x, y, topo, data, 40)\n",
        "        \n",
        "    xmax = x.max()\n",
        "    xmin = x.min()\n",
        "    ymax = y.max()\n",
        "    ymin = y.min()\n",
        "    dx = 0.1*(xmax - xmin)\n",
        "    dy = 0.1*(ymax - ymin)\n",
        "    plt.xlim(xmin-dx, xmax+dx)\n",
        "    plt.ylim(ymin-dy, ymax+dy)\n",
        "    return\n"
      ],
      "execution_count": 3,
      "outputs": []
    },
    {
      "cell_type": "markdown",
      "metadata": {
        "id": "WiEMgjZ5SuGH"
      },
      "source": [
        "### Element matrix\n",
        "The \"element stiffness matrix\", $K$ depends on the conductivity tensor $D$ and the triangle geometry.\n",
        "\n",
        "$$ K_e = \\int_{\\Omega_e} B_e^T D B_e d\\Omega $$\n"
      ]
    },
    {
      "cell_type": "code",
      "metadata": {
        "trusted": true,
        "id": "Dn_luRBKSuGI"
      },
      "source": [
        "def Kmat(D, p, geometry):\n",
        "    ''' Calculate K from the D matrix and the points '''\n",
        "    # D contains the conductivity tensor\n",
        "    # p contains the indices of the three points\n",
        "    # making up the triangle\n",
        "    assert(len(p) == 3)\n",
        "    x0, y0 = geometry[p[0]]\n",
        "    x1, y1 = geometry[p[1]]\n",
        "    x2, y2 = geometry[p[2]]\n",
        "\n",
        "    # Element area Ae\n",
        "    Ae = 0.5*abs((x0 - x1)*(y2 - y1) - (y0 - y1)*(x2 - x1))\n",
        "\n",
        "    # 'B' Matrix - representing the 'gradient' operator\n",
        "    B = array([[y1 - y2, y2 - y0, y0 - y1],\n",
        "               [x2 - x1, x0 - x2, x1 - x0]])/(2*Ae)\n",
        "\n",
        "    K = Ae*matmul(B.transpose(), matmul(D, B))\n",
        "    return K"
      ],
      "execution_count": 4,
      "outputs": []
    },
    {
      "cell_type": "markdown",
      "metadata": {
        "id": "-8TMJiHQSuGN"
      },
      "source": [
        "### Matrix assembly (LHS)\n",
        "The process of combining the local element matrices into a larger global matrix is called \"assembly\". It is really just a case of relabelling the indices with their global values, and adding the local matrices together. Now, we use the `scipy.sparse.lil_matrix` which only stores the non-zero entries."
      ]
    },
    {
      "cell_type": "code",
      "metadata": {
        "trusted": true,
        "id": "UutfeMhPSuGN"
      },
      "source": [
        "def assemble_matrix(mesh, Dmat):\n",
        "    geom, topo = mesh\n",
        "    np = len(geom)\n",
        "    Kglobal = lil_matrix((np, np))\n",
        "    \n",
        "    for tri in topo:\n",
        "        K = Kmat(Dmat, tri, geom)\n",
        "        for i, idx in enumerate(tri):\n",
        "            for j, jdx in enumerate(tri):\n",
        "                Kglobal[idx, jdx] += K[i, j]\n",
        "    return Kglobal"
      ],
      "execution_count": 5,
      "outputs": []
    },
    {
      "cell_type": "code",
      "metadata": {
        "trusted": true,
        "id": "i064Egt_SuGS"
      },
      "source": [
        "Dmat = array([[15.0, 0.0],\n",
        "              [0.0, 5.0]])"
      ],
      "execution_count": 6,
      "outputs": []
    },
    {
      "cell_type": "code",
      "metadata": {
        "trusted": true,
        "id": "ASagR8n1SuGY"
      },
      "source": [
        "Kglobal = assemble_matrix(mesh, Dmat)"
      ],
      "execution_count": 7,
      "outputs": []
    },
    {
      "cell_type": "markdown",
      "metadata": {
        "id": "1SrxV4IKSuGe"
      },
      "source": [
        "### RHS assembly\n",
        "\n",
        "As before, we perform RHS assembly on the vector $f$, combining the local vector entries from each element. Each element has a constant source term $s$.\n"
      ]
    },
    {
      "cell_type": "code",
      "metadata": {
        "trusted": true,
        "id": "fmUyrUI3SuGe"
      },
      "source": [
        "def fvec(s, p, geom):\n",
        "    assert(len(p) == 3)\n",
        "    x0, y0 = geometry[p[0]]\n",
        "    x1, y1 = geometry[p[1]]\n",
        "    x2, y2 = geometry[p[2]]\n",
        "\n",
        "    # Element area Ae\n",
        "    Ae = 0.5*abs((x0 - x1)*(y2 - y1) - (y0 - y1)*(x2 - x1))\n",
        "    return s*Ae/3.0*ones(3)\n",
        "\n",
        "def assemble_vector(mesh, s):\n",
        "    geom, topo = mesh\n",
        "    fg = zeros(len(geom))\n",
        "    for tri in topo:\n",
        "        f = fvec(s, tri, geom)\n",
        "        for i, idx in enumerate(tri):\n",
        "            fg[idx] += f[i]\n",
        "    return fg\n",
        "\n",
        "fglobal = assemble_vector(mesh, 3.0)"
      ],
      "execution_count": 8,
      "outputs": []
    },
    {
      "cell_type": "code",
      "metadata": {
        "trusted": true,
        "id": "ABII0pL7SuGj"
      },
      "source": [
        "def set_bc(K, f, row, val):\n",
        "    # Set BC\n",
        "    K[row,:] = 0.0\n",
        "    K[row, row] = 1.0\n",
        "    f[row] = val\n",
        "\n",
        "# Set zero BC on bottom edge\n",
        "for i in range(nx):\n",
        "    set_bc(Kglobal, fglobal, i*ny, 0.0)\n",
        "\n",
        "# Set u=10 BC on left edge\n",
        "for j in range(ny):\n",
        "    y = (j/(ny+1))\n",
        "    set_bc(Kglobal, fglobal, j, 0.04*sin(2*pi*y))\n"
      ],
      "execution_count": 9,
      "outputs": []
    },
    {
      "cell_type": "markdown",
      "metadata": {
        "id": "i9WkRimpSuGo"
      },
      "source": [
        "Finally, we can refer the $K.u = f$ problem to a sparse linear algebra solver which will use an LU method to get the answer. The solver requires the matrix in CSR format. "
      ]
    },
    {
      "cell_type": "code",
      "metadata": {
        "trusted": true,
        "id": "T2ooql38SuGo",
        "outputId": "60151362-b8e1-4913-ca66-8485e6b2d75f",
        "colab": {
          "base_uri": "https://localhost:8080/",
          "height": 51
        }
      },
      "source": [
        "u = spsolve(Kglobal.tocsr(), fglobal)\n",
        "print(u.max(), u.min())\n",
        "print('Number of DOFS=', len(u))"
      ],
      "execution_count": 10,
      "outputs": [
        {
          "output_type": "stream",
          "text": [
            "0.07354042572686259 -0.039999216713052996\n",
            "Number of DOFS= 62500\n"
          ],
          "name": "stdout"
        }
      ]
    },
    {
      "cell_type": "code",
      "metadata": {
        "trusted": true,
        "id": "lSjzfqo8SuGt",
        "outputId": "9783aae3-c9a6-46bf-e196-2760fe416ae5",
        "colab": {
          "base_uri": "https://localhost:8080/",
          "height": 700
        }
      },
      "source": [
        "plt.figure(figsize=(12,12))\n",
        "plot(mesh, u)"
      ],
      "execution_count": 11,
      "outputs": [
        {
          "output_type": "display_data",
          "data": {
            "image/png": "[encoded data removed]",
            "text/plain": [
              "<Figure size 864x864 with 1 Axes>"
            ]
          },
          "metadata": {
            "tags": [],
            "needs_background": "light"
          }
        }
      ]
    },
    {
      "cell_type": "code",
      "metadata": {
        "trusted": false,
        "id": "Kw6PDrRjSuGy"
      },
      "source": [
        ""
      ],
      "execution_count": null,
      "outputs": []
    }
  ]
}