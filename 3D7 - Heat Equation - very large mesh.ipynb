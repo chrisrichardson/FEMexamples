{
  "cells": [
    {
      "metadata": {},
      "cell_type": "markdown",
      "source": "# Heat Equation - with a larger mesh\n### Sparse linear algebra\n\nFirst import the required libraries for basic algebra and plotting. For larger problems, we use the scipy\nsparse package, only storing non-zero entries in the LHS matrix."
    },
    {
      "metadata": {
        "trusted": true
      },
      "cell_type": "code",
      "source": "from numpy import *\nfrom scipy.sparse import csr_matrix, lil_matrix\nfrom scipy.sparse.linalg import spsolve\nset_printoptions(suppress=True)\nimport matplotlib.pyplot as plt\n%matplotlib inline",
      "execution_count": 1,
      "outputs": []
    },
    {
      "metadata": {},
      "cell_type": "markdown",
      "source": "### Mesh\n\nThe mesh is made the same way as before."
    },
    {
      "metadata": {
        "trusted": true
      },
      "cell_type": "code",
      "source": "\n# Make a rectangular mesh of triangles, nx by ny \nnx = 250\nny = 250\n\nc = 0\ngeometry = zeros((nx*ny, 2), dtype='float')\nfor i in range(nx):\n    for j in range(ny):\n        geometry[c] = [float(i)/(nx-1), float(j)/(ny-1)]\n        c += 1\n\nntri = (nx - 1)*(ny - 1)*2\ntopology = zeros((ntri, 3), dtype='int')\n\nc = 0\nfor i in range(nx - 1):\n    for j in range(ny - 1):\n        ij = j + i*ny\n        topology[c] = [ij, ij+ny, ij+ny+1]\n        topology[c + 1] = [ij+1, ij, ij+ny+1]\n        c += 2\n        \nmesh = (geometry, topology)",
      "execution_count": 2,
      "outputs": []
    },
    {
      "metadata": {},
      "cell_type": "markdown",
      "source": "Here is a simple plotting routine to display the data values"
    },
    {
      "metadata": {
        "trusted": true
      },
      "cell_type": "code",
      "source": "def plot(mesh, data):\n    geom, topo = mesh\n    x = geom[:,0]\n    y = geom[:,1]\n\n    plt.gca(aspect='equal')\n    plt.tricontourf(x, y, topo, data, 40)\n        \n    xmax = x.max()\n    xmin = x.min()\n    ymax = y.max()\n    ymin = y.min()\n    dx = 0.1*(xmax - xmin)\n    dy = 0.1*(ymax - ymin)\n    plt.xlim(xmin-dx, xmax+dx)\n    plt.ylim(ymin-dy, ymax+dy)\n    return\n",
      "execution_count": 3,
      "outputs": []
    },
    {
      "metadata": {},
      "cell_type": "markdown",
      "source": "### Element matrix\nThe \"element stiffness matrix\", $K$ depends on the conductivity tensor $D$ and the triangle geometry.\n\n$$ K_e = \\int_{\\Omega_e} B_e^T D B_e d\\Omega $$\n"
    },
    {
      "metadata": {
        "trusted": true
      },
      "cell_type": "code",
      "source": "def Kmat(D, p, geometry):\n    ''' Calculate K from the D matrix and the points '''\n    # D contains the conductivity tensor\n    # p contains the indices of the three points\n    # making up the triangle\n    assert(len(p) == 3)\n    x0, y0 = geometry[p[0]]\n    x1, y1 = geometry[p[1]]\n    x2, y2 = geometry[p[2]]\n\n    # Element area Ae\n    Ae = 0.5*abs((x0 - x1)*(y2 - y1) - (y0 - y1)*(x2 - x1))\n\n    # 'B' Matrix - representing the 'gradient' operator\n    B = array([[y1 - y2, y2 - y0, y0 - y1],\n               [x2 - x1, x0 - x2, x1 - x0]])/(2*Ae)\n\n    K = Ae*matmul(B.transpose(), matmul(D, B))\n    return K",
      "execution_count": 4,
      "outputs": []
    },
    {
      "metadata": {},
      "cell_type": "markdown",
      "source": "### Matrix assembly (LHS)\nThe process of combining the local element matrices into a larger global matrix is called \"assembly\". It is really just a case of relabelling the indices with their global values, and adding the local matrices together. Now, we use the `scipy.sparse.lil_matrix` which only stores the non-zero entries."
    },
    {
      "metadata": {
        "trusted": true
      },
      "cell_type": "code",
      "source": "def assemble_matrix(mesh, Dmat):\n    geom, topo = mesh\n    np = len(geom)\n    Kglobal = lil_matrix((np, np))\n    \n    for tri in topo:\n        K = Kmat(Dmat, tri, geom)\n        for i, idx in enumerate(tri):\n            for j, jdx in enumerate(tri):\n                Kglobal[idx, jdx] += K[i, j]\n    return Kglobal",
      "execution_count": 5,
      "outputs": []
    },
    {
      "metadata": {
        "trusted": true
      },
      "cell_type": "code",
      "source": "Dmat = array([[15.0, 0.0],\n              [0.0, 5.0]])",
      "execution_count": 6,
      "outputs": []
    },
    {
      "metadata": {
        "trusted": true
      },
      "cell_type": "code",
      "source": "Kglobal = assemble_matrix(mesh, Dmat)",
      "execution_count": 7,
      "outputs": []
    },
    {
      "metadata": {},
      "cell_type": "markdown",
      "source": "### RHS assembly\n\nAs before, we perform RHS assembly on the vector $f$, combining the local vector entries from each element. Each element has a constant source term $s$.\n"
    },
    {
      "metadata": {
        "trusted": true
      },
      "cell_type": "code",
      "source": "def fvec(s, p, geom):\n    assert(len(p) == 3)\n    x0, y0 = geometry[p[0]]\n    x1, y1 = geometry[p[1]]\n    x2, y2 = geometry[p[2]]\n\n    # Element area Ae\n    Ae = 0.5*abs((x0 - x1)*(y2 - y1) - (y0 - y1)*(x2 - x1))\n    return s*Ae/3.0*ones(3)\n\ndef assemble_vector(mesh, s):\n    geom, topo = mesh\n    fg = zeros(len(geom))\n    for tri in topo:\n        f = fvec(s, tri, geom)\n        for i, idx in enumerate(tri):\n            fg[idx] += f[i]\n    return fg\n\nfglobal = assemble_vector(mesh, 3.0)",
      "execution_count": 8,
      "outputs": []
    },
    {
      "metadata": {
        "trusted": true
      },
      "cell_type": "code",
      "source": "def set_bc(K, f, row, val):\n    # Set BC\n    K[row,:] = 0.0\n    K[row, row] = 1.0\n    f[row] = val\n\n# Set zero BC on bottom edge\nfor i in range(nx):\n    set_bc(Kglobal, fglobal, i*ny, 0.0)\n\n# Set u=10 BC on left edge\nfor j in range(ny):\n    y = (j/(ny+1))\n    set_bc(Kglobal, fglobal, j, 0.04*sin(2*pi*y))\n",
      "execution_count": 9,
      "outputs": []
    },
    {
      "metadata": {},
      "cell_type": "markdown",
      "source": "Finally, we can refer the $K.u = f$ problem to a sparse linear algebra solver which will use an LU method to get the answer. The solver requires the matrix in CSR format. "
    },
    {
      "metadata": {
        "trusted": true
      },
      "cell_type": "code",
      "source": "u = spsolve(Kglobal.tocsr(), fglobal)\nprint(u.max(), u.min())\nprint('Number of DOFS=', len(u))",
      "execution_count": 10,
      "outputs": [
        {
          "output_type": "stream",
          "text": "0.07354042572683187 -0.039999216713052996\nNumber of DOFS= 62500\n",
          "name": "stdout"
        }
      ]
    },
    {
      "metadata": {
        "trusted": true
      },
      "cell_type": "code",
      "source": "plt.figure(figsize=(12,12))\nplot(mesh, u)",
      "execution_count": 11,
      "outputs": [
        {
          "output_type": "display_data",
          "data": {
            "image/png": "[encoded data removed]",
            "text/plain": "<matplotlib.figure.Figure at 0x7f8da2b097b8>"
          },
          "metadata": {}
        }
      ]
    },
    {
      "metadata": {
        "collapsed": true,
        "trusted": false
      },
      "cell_type": "code",
      "source": "",
      "execution_count": null,
      "outputs": []
    }
  ],
  "metadata": {
    "kernelspec": {
      "name": "python3",
      "display_name": "Python 3",
      "language": "python"
    },
    "language_info": {
      "mimetype": "text/x-python",
      "nbconvert_exporter": "python",
      "name": "python",
      "file_extension": ".py",
      "version": "3.5.4",
      "pygments_lexer": "ipython3",
      "codemirror_mode": {
        "version": 3,
        "name": "ipython"
      }
    }
  },
  "nbformat": 4,
  "nbformat_minor": 2
}