{
  "nbformat": 4,
  "nbformat_minor": 0,
  "metadata": {
    "kernelspec": {
      "display_name": "Python 3",
      "language": "python",
      "name": "python3"
    },
    "language_info": {
      "codemirror_mode": {
        "name": "ipython",
        "version": 3
      },
      "file_extension": ".py",
      "mimetype": "text/x-python",
      "name": "python",
      "nbconvert_exporter": "python",
      "pygments_lexer": "ipython3",
      "version": "3.5.4"
    },
    "colab": {
      "name": "3D7 - Basic FEM - heat equation.ipynb",
      "provenance": [],
      "include_colab_link": true
    }
  },
  "cells": [
    {
      "cell_type": "markdown",
      "metadata": {
        "id": "view-in-github",
        "colab_type": "text"
      },
      "source": [
        "<a href=\"https://colab.research.google.com/github/chrisrichardson/FEMexamples/blob/main/3D7%20-%20Basic%20FEM%20-%20heat%20equation.ipynb\" target=\"_parent\"><img src=\"https://colab.research.google.com/assets/colab-badge.svg\" alt=\"Open In Colab\"/></a>"
      ]
    },
    {
      "cell_type": "markdown",
      "metadata": {
        "id": "q-9rHoChR-ej"
      },
      "source": [
        "# Basic FEM Example: Heat Equation\n",
        "\n",
        "First import the required libraries for basic algebra and plotting"
      ]
    },
    {
      "cell_type": "code",
      "metadata": {
        "id": "6k4fzuB4R-el"
      },
      "source": [
        "from numpy import *\n",
        "set_printoptions(2, suppress=True)\n",
        "import matplotlib.pyplot as plt\n",
        "%matplotlib inline"
      ],
      "execution_count": 1,
      "outputs": []
    },
    {
      "cell_type": "markdown",
      "metadata": {
        "id": "YhPPo81AR-eu"
      },
      "source": [
        "### Mesh\n",
        "We define the \"mesh\" in terms of its geometry and topology. The geometry is just a set of $(x, y)$ points - a $(p \\times 2)$ floating point array, where $p$ is the number of points. The topology is the list of points which make up each triangle, hence it is a $(n\\times 3)$ integer array, where $n$ is the number of triangles. Note that numbering starts from zero. Also, the order of the points (i.e. triangle orientation) is important."
      ]
    },
    {
      "cell_type": "code",
      "metadata": {
        "id": "DShH-MaxR-ew"
      },
      "source": [
        "geometry = array([[0.0, 0.0],\n",
        "                  [2.0, 0.0],\n",
        "                  [0.0, 1.0],\n",
        "                  [2.0, 1.0]])\n",
        "\n",
        "topology = array([[0, 1, 2],\n",
        "                  [1, 3, 2]])\n",
        "\n",
        "mesh = (geometry, topology)"
      ],
      "execution_count": 2,
      "outputs": []
    },
    {
      "cell_type": "markdown",
      "metadata": {
        "id": "Bz2hm-wYR-e5"
      },
      "source": [
        "Here is a simple plotting routine to display the mesh"
      ]
    },
    {
      "cell_type": "code",
      "metadata": {
        "id": "kVmeEPjER-e7"
      },
      "source": [
        "def plot(mesh):\n",
        "    geom, topo = mesh\n",
        "    x = geom[:,0]\n",
        "    y = geom[:,1]\n",
        "    plt.triplot(x, y, topo)\n",
        "    xmax = x.max()\n",
        "    xmin = x.min()\n",
        "    ymax = y.max()\n",
        "    ymin = y.min()\n",
        "    dx = 0.1*(xmax - xmin)\n",
        "    dy = 0.1*(ymax - ymin)\n",
        "    plt.xlim(xmin-dx, xmax+dx)\n",
        "    plt.ylim(ymin-dy, ymax+dy)\n",
        "    return\n"
      ],
      "execution_count": 3,
      "outputs": []
    },
    {
      "cell_type": "code",
      "metadata": {
        "id": "lxFZG4pCR-fB",
        "outputId": "bee25de5-2686-4e06-fb1b-2bb73625f40c",
        "colab": {
          "base_uri": "https://localhost:8080/",
          "height": 265
        }
      },
      "source": [
        "plot(mesh)"
      ],
      "execution_count": 4,
      "outputs": [
        {
          "output_type": "display_data",
          "data": {
            "image/png": "[encoded data removed]",
            "text/plain": [
              "<Figure size 432x288 with 1 Axes>"
            ]
          },
          "metadata": {
            "tags": [],
            "needs_background": "light"
          }
        }
      ]
    },
    {
      "cell_type": "markdown",
      "metadata": {
        "id": "PevXNxprR-fH"
      },
      "source": [
        "### Element matrix\n",
        "The \"element stiffness matrix\", $K$ depends on the conductivity tensor $D$ and the triangle geometry.\n",
        "\n",
        "$$ K_e = \\int_{\\Omega_e} B_e^T D B_e d\\Omega $$\n"
      ]
    },
    {
      "cell_type": "code",
      "metadata": {
        "id": "4l1Tuw6IR-fI"
      },
      "source": [
        "def Kmat(D, p, geometry):\n",
        "    ''' Calculate K from the D matrix and the points '''\n",
        "    # D contains the conductivity tensor\n",
        "    # p contains the indices of the three points\n",
        "    # making up the triangle\n",
        "    assert(len(p) == 3)\n",
        "    x0, y0 = geometry[p[0]]\n",
        "    x1, y1 = geometry[p[1]]\n",
        "    x2, y2 = geometry[p[2]]\n",
        "\n",
        "    # Element area Ae\n",
        "    Ae = 0.5*abs((x0 - x1)*(y2 - y1) - (y0 - y1)*(x2 - x1))\n",
        "\n",
        "    # 'B' Matrix - representing the 'gradient' operator\n",
        "    B = array([[y1 - y2, y2 - y0, y0 - y1],\n",
        "               [x2 - x1, x0 - x2, x1 - x0]])/(2*Ae)\n",
        "\n",
        "    K = Ae*matmul(B.transpose(), matmul(D, B))\n",
        "    return K"
      ],
      "execution_count": 5,
      "outputs": []
    },
    {
      "cell_type": "markdown",
      "metadata": {
        "id": "jDC4biQcR-fN"
      },
      "source": [
        "### Matrix assembly (LHS)\n",
        "The process of combining the local element matrices into a larger global matrix is called \"assembly\". It is really just a case of relabelling the indices with their global values, and adding the local matrices together."
      ]
    },
    {
      "cell_type": "code",
      "metadata": {
        "id": "W_NetHAJR-fO"
      },
      "source": [
        "def assemble_matrix(mesh, Dmat):\n",
        "    geom, topo = mesh\n",
        "    np = len(geom)\n",
        "    Kglobal = zeros((np, np))\n",
        "    \n",
        "    for tri in topo:\n",
        "        K = Kmat(Dmat, tri, geom)\n",
        "        for i, idx in enumerate(tri):\n",
        "            for j, jdx in enumerate(tri):\n",
        "                Kglobal[idx, jdx] += K[i, j]\n",
        "    return Kglobal"
      ],
      "execution_count": 6,
      "outputs": []
    },
    {
      "cell_type": "code",
      "metadata": {
        "id": "2U5aWd3IR-fV"
      },
      "source": [
        "Dmat = array([[5.0, 0.0],\n",
        "              [0.0, 5.0]])"
      ],
      "execution_count": 7,
      "outputs": []
    },
    {
      "cell_type": "code",
      "metadata": {
        "id": "vzdr63-2R-fa"
      },
      "source": [
        "Kglobal = assemble_matrix(mesh, Dmat)"
      ],
      "execution_count": 8,
      "outputs": []
    },
    {
      "cell_type": "markdown",
      "metadata": {
        "id": "vr2RuCqGR-fe"
      },
      "source": [
        "The fully assembled left-hand side (LHS) looks like this:"
      ]
    },
    {
      "cell_type": "code",
      "metadata": {
        "id": "IfraziGQR-ff",
        "outputId": "5174d09f-12e0-40c3-9f2c-3593a4c22ce0",
        "colab": {
          "base_uri": "https://localhost:8080/",
          "height": 85
        }
      },
      "source": [
        "print(Kglobal)"
      ],
      "execution_count": 9,
      "outputs": [
        {
          "output_type": "stream",
          "text": [
            "[[ 6.25 -1.25 -5.    0.  ]\n",
            " [-1.25  6.25  0.   -5.  ]\n",
            " [-5.    0.    6.25 -1.25]\n",
            " [ 0.   -5.   -1.25  6.25]]\n"
          ],
          "name": "stdout"
        }
      ]
    },
    {
      "cell_type": "markdown",
      "metadata": {
        "id": "RAMBIlFcR-fk"
      },
      "source": [
        "### Vector assembly (RHS)\n",
        "Now we need to perform RHS assembly on the vector $f$. This is similar to the matrix assembly above.\n",
        "\n",
        "The individual vector for each element is defined in `fvec()` and they are combined together in `assemble_vector()`."
      ]
    },
    {
      "cell_type": "code",
      "metadata": {
        "id": "NezaFbmTR-fk"
      },
      "source": [
        "def fvec(s, p, geom):\n",
        "    assert(len(p) == 3)\n",
        "    x0, y0 = geometry[p[0]]\n",
        "    x1, y1 = geometry[p[1]]\n",
        "    x2, y2 = geometry[p[2]]\n",
        "\n",
        "    # Element area Ae\n",
        "    Ae = 0.5*abs((x0 - x1)*(y2 - y1) - (y0 - y1)*(x2 - x1))\n",
        "    return s*Ae/3.0*ones(3)\n",
        "\n",
        "def assemble_vector(mesh, s):\n",
        "    geom, topo = mesh\n",
        "    fg = zeros(len(geom))\n",
        "    for tri in topo:\n",
        "        f = fvec(s, tri, geom)\n",
        "        for i, idx in enumerate(tri):\n",
        "            fg[idx] += f[i]\n",
        "    return fg\n",
        "\n",
        "fglobal = assemble_vector(mesh, 3.0)"
      ],
      "execution_count": 10,
      "outputs": []
    },
    {
      "cell_type": "markdown",
      "metadata": {
        "id": "lkXPd6oPR-fp"
      },
      "source": [
        "### Boundary flux terms\n",
        "There are also some boundary flux terms in the example. Here we will add them directly to $f$."
      ]
    },
    {
      "cell_type": "code",
      "metadata": {
        "id": "kgpuqc2WR-fp"
      },
      "source": [
        "fglobal += array([0.0, -10.0, 0.0, -10.0])"
      ],
      "execution_count": 11,
      "outputs": []
    },
    {
      "cell_type": "markdown",
      "metadata": {
        "id": "7C6J0d1sR-fu"
      },
      "source": [
        "### Boundary conditions \n",
        "\n",
        "Dirichlet boundary conditions can be enforced by zeroing a row of the $K$ matrix, setting the diagonal entry to 1, and putting the desired value in the RHS $f$ vector"
      ]
    },
    {
      "cell_type": "code",
      "metadata": {
        "id": "y9qEEUw2R-fv"
      },
      "source": [
        "def set_bc(K, f, row, val):\n",
        "    # Set BC\n",
        "    K[row] = 0.0\n",
        "    K[row, row] = 1.0\n",
        "    f[row] = val\n",
        "\n",
        "set_bc(Kglobal, fglobal, 0, 0.0)   \n",
        "set_bc(Kglobal, fglobal, 2, 0.0)"
      ],
      "execution_count": 12,
      "outputs": []
    },
    {
      "cell_type": "markdown",
      "metadata": {
        "id": "I8fN0CkcR-f1"
      },
      "source": [
        "Finally, we can refer the $K.u = f$ problem to a linear algebra solver which will use an LU method to get the answer"
      ]
    },
    {
      "cell_type": "code",
      "metadata": {
        "id": "jflTNLivR-f2",
        "outputId": "81f83765-0a33-407d-e7ff-b794b1f518a0",
        "colab": {
          "base_uri": "https://localhost:8080/",
          "height": 34
        }
      },
      "source": [
        "u = linalg.solve(Kglobal, fglobal)\n",
        "print(u)\n"
      ],
      "execution_count": 13,
      "outputs": [
        {
          "output_type": "stream",
          "text": [
            "[-0.   -6.76  0.   -6.84]\n"
          ],
          "name": "stdout"
        }
      ]
    },
    {
      "cell_type": "code",
      "metadata": {
        "id": "xYzZ76vcR-f5"
      },
      "source": [
        ""
      ],
      "execution_count": 13,
      "outputs": []
    }
  ]
}