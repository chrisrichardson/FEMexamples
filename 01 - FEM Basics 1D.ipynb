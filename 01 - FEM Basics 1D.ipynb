{
  "nbformat": 4,
  "nbformat_minor": 0,
  "metadata": {
    "kernelspec": {
      "name": "python3",
      "display_name": "Python 3",
      "language": "python"
    },
    "language_info": {
      "mimetype": "text/x-python",
      "nbconvert_exporter": "python",
      "name": "python",
      "pygments_lexer": "ipython3",
      "version": "3.5.4",
      "file_extension": ".py",
      "codemirror_mode": {
        "version": 3,
        "name": "ipython"
      }
    },
    "colab": {
      "name": "01 - FEM Basics 1D.ipynb",
      "provenance": [],
      "include_colab_link": true
    },
    "widgets": {
      "application/vnd.jupyter.widget-state+json": {
        "dfdaf8ee303f43bbbda0a76f09396220": {
          "model_module": "@jupyter-widgets/controls",
          "model_name": "VBoxModel",
          "state": {
            "_view_name": "VBoxView",
            "_dom_classes": [
              "widget-interact"
            ],
            "_model_name": "VBoxModel",
            "_view_module": "@jupyter-widgets/controls",
            "_model_module_version": "1.5.0",
            "_view_count": null,
            "_view_module_version": "1.5.0",
            "box_style": "",
            "layout": "IPY_MODEL_cc3c2018633a4007b36230fe78352f4b",
            "_model_module": "@jupyter-widgets/controls",
            "children": [
              "IPY_MODEL_3ccbd2cf9c634c31936efc3c95c0e8cd",
              "IPY_MODEL_a50d77c2c715494a90dfc9a6e491ddfc"
            ]
          }
        },
        "cc3c2018633a4007b36230fe78352f4b": {
          "model_module": "@jupyter-widgets/base",
          "model_name": "LayoutModel",
          "state": {
            "_view_name": "LayoutView",
            "grid_template_rows": null,
            "right": null,
            "justify_content": null,
            "_view_module": "@jupyter-widgets/base",
            "overflow": null,
            "_model_module_version": "1.2.0",
            "_view_count": null,
            "flex_flow": null,
            "width": null,
            "min_width": null,
            "border": null,
            "align_items": null,
            "bottom": null,
            "_model_module": "@jupyter-widgets/base",
            "top": null,
            "grid_column": null,
            "overflow_y": null,
            "overflow_x": null,
            "grid_auto_flow": null,
            "grid_area": null,
            "grid_template_columns": null,
            "flex": null,
            "_model_name": "LayoutModel",
            "justify_items": null,
            "grid_row": null,
            "max_height": null,
            "align_content": null,
            "visibility": null,
            "align_self": null,
            "height": null,
            "min_height": null,
            "padding": null,
            "grid_auto_rows": null,
            "grid_gap": null,
            "max_width": null,
            "order": null,
            "_view_module_version": "1.2.0",
            "grid_template_areas": null,
            "object_position": null,
            "object_fit": null,
            "grid_auto_columns": null,
            "margin": null,
            "display": null,
            "left": null
          }
        },
        "3ccbd2cf9c634c31936efc3c95c0e8cd": {
          "model_module": "@jupyter-widgets/controls",
          "model_name": "IntSliderModel",
          "state": {
            "_view_name": "IntSliderView",
            "style": "IPY_MODEL_663fdb6fa5b8424a9e5a8ce25a41da23",
            "_dom_classes": [],
            "description": "n",
            "step": 1,
            "_model_name": "IntSliderModel",
            "orientation": "horizontal",
            "max": 11,
            "_view_module": "@jupyter-widgets/controls",
            "_model_module_version": "1.5.0",
            "value": 5,
            "_view_count": null,
            "disabled": false,
            "_view_module_version": "1.5.0",
            "min": 1,
            "continuous_update": true,
            "readout_format": "d",
            "description_tooltip": null,
            "readout": true,
            "_model_module": "@jupyter-widgets/controls",
            "layout": "IPY_MODEL_de608d5fc21a4866b725cd74a04a6bd6"
          }
        },
        "a50d77c2c715494a90dfc9a6e491ddfc": {
          "model_module": "@jupyter-widgets/output",
          "model_name": "OutputModel",
          "state": {
            "_view_name": "OutputView",
            "msg_id": "",
            "_dom_classes": [],
            "_model_name": "OutputModel",
            "outputs": [
              {
                "output_type": "display_data",
                "metadata": {
                  "tags": [],
                  "needs_background": "light"
                },
                "image/png": "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\n",
                "text/plain": "<Figure size 432x288 with 1 Axes>"
              }
            ],
            "_view_module": "@jupyter-widgets/output",
            "_model_module_version": "1.0.0",
            "_view_count": null,
            "_view_module_version": "1.0.0",
            "layout": "IPY_MODEL_ff37659491e4482384481242650a91cf",
            "_model_module": "@jupyter-widgets/output"
          }
        },
        "663fdb6fa5b8424a9e5a8ce25a41da23": {
          "model_module": "@jupyter-widgets/controls",
          "model_name": "SliderStyleModel",
          "state": {
            "_view_name": "StyleView",
            "handle_color": null,
            "_model_name": "SliderStyleModel",
            "description_width": "",
            "_view_module": "@jupyter-widgets/base",
            "_model_module_version": "1.5.0",
            "_view_count": null,
            "_view_module_version": "1.2.0",
            "_model_module": "@jupyter-widgets/controls"
          }
        },
        "de608d5fc21a4866b725cd74a04a6bd6": {
          "model_module": "@jupyter-widgets/base",
          "model_name": "LayoutModel",
          "state": {
            "_view_name": "LayoutView",
            "grid_template_rows": null,
            "right": null,
            "justify_content": null,
            "_view_module": "@jupyter-widgets/base",
            "overflow": null,
            "_model_module_version": "1.2.0",
            "_view_count": null,
            "flex_flow": null,
            "width": null,
            "min_width": null,
            "border": null,
            "align_items": null,
            "bottom": null,
            "_model_module": "@jupyter-widgets/base",
            "top": null,
            "grid_column": null,
            "overflow_y": null,
            "overflow_x": null,
            "grid_auto_flow": null,
            "grid_area": null,
            "grid_template_columns": null,
            "flex": null,
            "_model_name": "LayoutModel",
            "justify_items": null,
            "grid_row": null,
            "max_height": null,
            "align_content": null,
            "visibility": null,
            "align_self": null,
            "height": null,
            "min_height": null,
            "padding": null,
            "grid_auto_rows": null,
            "grid_gap": null,
            "max_width": null,
            "order": null,
            "_view_module_version": "1.2.0",
            "grid_template_areas": null,
            "object_position": null,
            "object_fit": null,
            "grid_auto_columns": null,
            "margin": null,
            "display": null,
            "left": null
          }
        },
        "ff37659491e4482384481242650a91cf": {
          "model_module": "@jupyter-widgets/base",
          "model_name": "LayoutModel",
          "state": {
            "_view_name": "LayoutView",
            "grid_template_rows": null,
            "right": null,
            "justify_content": null,
            "_view_module": "@jupyter-widgets/base",
            "overflow": null,
            "_model_module_version": "1.2.0",
            "_view_count": null,
            "flex_flow": null,
            "width": null,
            "min_width": null,
            "border": null,
            "align_items": null,
            "bottom": null,
            "_model_module": "@jupyter-widgets/base",
            "top": null,
            "grid_column": null,
            "overflow_y": null,
            "overflow_x": null,
            "grid_auto_flow": null,
            "grid_area": null,
            "grid_template_columns": null,
            "flex": null,
            "_model_name": "LayoutModel",
            "justify_items": null,
            "grid_row": null,
            "max_height": null,
            "align_content": null,
            "visibility": null,
            "align_self": null,
            "height": null,
            "min_height": null,
            "padding": null,
            "grid_auto_rows": null,
            "grid_gap": null,
            "max_width": null,
            "order": null,
            "_view_module_version": "1.2.0",
            "grid_template_areas": null,
            "object_position": null,
            "object_fit": null,
            "grid_auto_columns": null,
            "margin": null,
            "display": null,
            "left": null
          }
        }
      }
    }
  },
  "cells": [
    {
      "cell_type": "markdown",
      "metadata": {
        "id": "view-in-github",
        "colab_type": "text"
      },
      "source": [
        "<a href=\"https://colab.research.google.com/github/chrisrichardson/FEMexamples/blob/main/01%20-%20FEM%20Basics%201D.ipynb\" target=\"_parent\"><img src=\"https://colab.research.google.com/assets/colab-badge.svg\" alt=\"Open In Colab\"/></a>"
      ]
    },
    {
      "cell_type": "code",
      "metadata": {
        "trusted": true,
        "id": "KwmgNaUBQSvg"
      },
      "source": [
        "from numpy import *\n",
        "set_printoptions(suppress=True, formatter={'all':lambda x: '%5.2f'%x})\n",
        "import matplotlib.pyplot as plt\n",
        "from ipywidgets import interact\n",
        "%matplotlib inline"
      ],
      "execution_count": 1,
      "outputs": []
    },
    {
      "cell_type": "markdown",
      "metadata": {
        "id": "qCh1pLRUQSvm"
      },
      "source": [
        "# Finite Element basics 1D\n",
        "Let us look at the one-dimensional heat equation. Probably, you will be familiar with the steady-state form:\n",
        "\n",
        "$$ {d\\over dx}\\left(k A {dT\\over dx}\\right) = 0 $$\n",
        "\n",
        "where $T$ is the temperature, $A$ is the cross-sectional area, and $k$ is the thermal conductivity.\n",
        "\n",
        "For a simple example, let us solve this equation in a rod of constant cross-sectional area $A$ which extends from $x=0$ to $x=1$, with a thermal conductivity $k$. We can fix the temperature $T=100$ at $x=0$ and $T=0$ at $x=1$. Obviously, this has a trivial, linear, solution, but it is instructive to see how to get a numerical solution with Finite Element, and we can introduce more complexity later."
      ]
    },
    {
      "cell_type": "markdown",
      "metadata": {
        "id": "BCC4aNeKQSvn"
      },
      "source": [
        "### Representation of a function by discrete variables\n",
        "\n",
        "First, let us consider how we can represent $T(x)$ computationally. Simply, we might choose to subdivide the domain $(0,1)$ into $n$ pieces (or \"elements\"), and represent $T(x)$ as having a continuous, piecewise linear values in each part. For example, suppose $T(x) = \\sin(5x)$, and $n=10$."
      ]
    },
    {
      "cell_type": "code",
      "metadata": {
        "trusted": true,
        "id": "RonMUqVbQSvo",
        "outputId": "6c5928f3-e301-4b60-ec9a-ce18ec40c6ff",
        "colab": {
          "base_uri": "https://localhost:8080/",
          "height": 299
        }
      },
      "source": [
        "# Create an array of n+1 values for position x, from 0 to 1 inclusive\n",
        "n = 10\n",
        "x = linspace(0.0, 1.0, n + 1)\n",
        "T = sin(5*x)\n",
        "\n",
        "print(x)\n",
        "print(T)\n",
        "plt.plot(x,T, marker='o');\n",
        "\n",
        "# Plot a more accurate representation\n",
        "n = 1000\n",
        "x = linspace(0.0, 1.0, n + 1)\n",
        "T = sin(5*x)\n",
        "plt.plot(x,T);\n"
      ],
      "execution_count": 2,
      "outputs": [
        {
          "output_type": "stream",
          "text": [
            "[ 0.00  0.10  0.20  0.30  0.40  0.50  0.60  0.70  0.80  0.90  1.00]\n",
            "[ 0.00  0.48  0.84  1.00  0.91  0.60  0.14 -0.35 -0.76 -0.98 -0.96]\n"
          ],
          "name": "stdout"
        },
        {
          "output_type": "display_data",
          "data": {
            "image/png": "[encoded data removed]",
            "text/plain": [
              "<Figure size 432x288 with 1 Axes>"
            ]
          },
          "metadata": {
            "tags": [],
            "needs_background": "light"
          }
        }
      ]
    },
    {
      "cell_type": "markdown",
      "metadata": {
        "id": "gtnNE48UQSvu"
      },
      "source": [
        "We can build up the \"piecewise linear\" version of $T(x)$ from the following formula:\n",
        "\n",
        "$$ T_{piecewise}(x) = \\sum_i T_i N_i(x) $$ where $T_i$ are the discrete values of $T$ at each \"node\" and $N_i$ are functions that are \"local\" to the node. The functions $N_i(x)$ are called shape functions, and in this case, are just linear between neighbouring nodes: a triangular or tent-like shape. $N_i$ has value 1 at node $i$ and value 0 at all other nodes. The interactive plot below lets you build up $T$ by adding together the contributions from shape functions from 1 to 11"
      ]
    },
    {
      "cell_type": "code",
      "metadata": {
        "trusted": true,
        "id": "ea96GzElQSvv",
        "outputId": "dde18530-560d-4378-b690-63bf2a9ad93a",
        "colab": {
          "base_uri": "https://localhost:8080/",
          "height": 301,
          "referenced_widgets": [
            "dfdaf8ee303f43bbbda0a76f09396220",
            "cc3c2018633a4007b36230fe78352f4b",
            "3ccbd2cf9c634c31936efc3c95c0e8cd",
            "a50d77c2c715494a90dfc9a6e491ddfc",
            "663fdb6fa5b8424a9e5a8ce25a41da23",
            "de608d5fc21a4866b725cd74a04a6bd6",
            "ff37659491e4482384481242650a91cf"
          ]
        }
      },
      "source": [
        "def plot(n):\n",
        "    x = linspace(0, 1.0, 11)\n",
        "    T = sin(5*x)\n",
        "    # Plot T as given by the first 'n' shape functions\n",
        "    T[n:] = 0.0\n",
        "    plt.plot(x, T, marker='o', color='k')\n",
        "    \n",
        "    # Plot shape function n \n",
        "    for i in range(1, n+1):\n",
        "        Ni = zeros(11)\n",
        "        Ni[i-1] = 1.0\n",
        "        plt.plot(x, Ni)\n",
        "        plt.text(0.1*(i-1), 1, '$N_{%d}$'%(i-1), size=16)\n",
        "    plt.ylim(-1.5, 1.5)\n",
        "\n",
        "interact(plot, n=(1,11,1));"
      ],
      "execution_count": 3,
      "outputs": [
        {
          "output_type": "display_data",
          "data": {
            "application/vnd.jupyter.widget-view+json": {
              "model_id": "dfdaf8ee303f43bbbda0a76f09396220",
              "version_minor": 0,
              "version_major": 2
            },
            "text/plain": [
              "interactive(children=(IntSlider(value=6, description='n', max=11, min=1), Output()), _dom_classes=('widget-int…"
            ]
          },
          "metadata": {
            "tags": []
          }
        }
      ]
    },
    {
      "cell_type": "markdown",
      "metadata": {
        "id": "4YtnOTG-QSv0"
      },
      "source": [
        "We can also calculate the derivatives, $$ {d\\over dx}T_{piecewise}(x) = \\sum_i T_i {dN_i\\over dx} $$ \n",
        "\n",
        "For these simple shape functions $N_i$, the derivatives are piecewise constant (and hence the second derivative is zero)."
      ]
    },
    {
      "cell_type": "code",
      "metadata": {
        "trusted": true,
        "id": "a3a3pAUCQSv1",
        "outputId": "e4ad3f0b-d869-49c9-cc41-6b1296d91215"
      },
      "source": [
        "# For example, dN5/dx looks like this:\n",
        "x = [0.0, 0.4, 0.4, 0.5, 0.5, 0.6, 0.6, 1.0]\n",
        "y = [0.0, 0.0, 0.1, 0.1, -0.1, -0.1, 0.0, 0.0]\n",
        "plt.plot(x, y)\n",
        "plt.title('$dN_5/dx$')\n",
        "plt.show()"
      ],
      "execution_count": null,
      "outputs": [
        {
          "output_type": "display_data",
          "data": {
            "image/png": "[encoded data removed]",
            "text/plain": [
              "<matplotlib.figure.Figure at 0x7f671c3c6358>"
            ]
          },
          "metadata": {
            "tags": []
          }
        }
      ]
    },
    {
      "cell_type": "markdown",
      "metadata": {
        "id": "q40eE2n6QSv5"
      },
      "source": [
        "### Variational method\n",
        "\n",
        "Returning to the mathematical description of the heat equation,\n",
        "assuming $k$ and $A$ to be constant, it can also be written as follows,\n",
        "\n",
        "$$ \\int_0^1 w(x) {d\\over dx}\\left({dT\\over dx}\\right) dx = 0 $$\n",
        "\n",
        "simply by multiplying by an arbitrary function $w(x)$ and integrating. At first, there may seem to be little gained by writing it in this way, but by manipulating this equation, we can first simplify, then localise the equation, and make it possible to solve numerically.\n",
        "\n",
        "Integration by parts gives:\n",
        "\n",
        "$$ - \\int_0^1 {dw\\over dx} {dT\\over dx} dx + \\left[w {dT\\over dx}\\right]_0^1= 0$$ \n",
        "\n",
        "For now, let's consider the integral, and worry about the boundary terms later."
      ]
    },
    {
      "cell_type": "markdown",
      "metadata": {
        "collapsed": true,
        "id": "HsGejC14QSv6"
      },
      "source": [
        "### Finite Element method\n",
        "\n",
        "For a numerical approximation, we will replace both $w(x)$ and $T(x)$ with piecewise approximations $w_{piecewise}(x), T_{piecewise}(x)$ to get:\n",
        "\n",
        "$$ \\int_0^1 \\sum_{i,j} w_i {dN_i\\over dx} T_j {dN_j\\over dx} dx = 0 $$\n",
        "\n",
        "Note that we need separate iterators $i$ and $j$ for $w_i$ and $T_j$. If we can solve this equation to get all the $T_j$ values, we will have a numerical solution to the problem.\n",
        "\n",
        "The derivatives $dN_i\\over dx$ are just $+1/\\delta x$, $-1/\\delta x$, or 0, depending on which segment, or \"element\" you are in, where $\\delta x$ is the spacing between points (0.1 in this case). \n",
        "\n",
        "For example, if we take the \"element\" between 0.4 and 0.5, we see that ${dN_4\\over dx} = -{1\\over \\delta x}$ and ${dN_5\\over dx} = {1\\over\\delta x}$. \n",
        "\n",
        "All other derivatives ${dN_i\\over dx} = 0$. \n",
        "\n",
        "As a result, we can break down the integral into small pieces, over each \"element\", which are easy to evaluate:\n",
        "\n",
        "$$ \\int_{0.4}^{0.5} \\sum_{i,j} w_i  {dN_i\\over dx} T_j {dN_j\\over dx} dx = {w_4 T_4 - w_4 T_5 - w_5 T_4 + w_5 T_5 \\over \\delta x^2} \\delta x$$ \n",
        "\n",
        "$$ \\int_{0.5}^{0.6} \\sum_{i,j} w_i  {dN_i\\over dx} T_j {dN_j\\over dx} dx = {w_5 T_5 - w_5 T_6 - w_6 T_5 + w_6 T_6 \\over \\delta x^2} \\delta x$$ \n",
        "\n",
        "etc., and we could continue for the whole range from $x=0$ to $x=1$, integrating each element individually, and summing the contributions from each of them. \n",
        "\n",
        "\n"
      ]
    },
    {
      "cell_type": "markdown",
      "metadata": {
        "collapsed": true,
        "id": "vtYhocYwQSv7"
      },
      "source": [
        "We can also write out each integral in a matrix form, like this:\n",
        "\n",
        "$$ \\int_{0.4}^{0.5} \\sum_{i,j} w_i  {dN_i\\over dx} T_j {dN_j\\over dx} dx = {1\\over\\delta x}(\n",
        "\\begin{array}{cc}\n",
        "w_4 & w_5 \\\\\n",
        "\\end{array})\n",
        "\\left(\n",
        "\\begin{array}{cc} \n",
        "1 & -1 \\\\\n",
        "-1 & 1 \\\\\n",
        "\\end{array}\n",
        "\\right)\n",
        "\\left(\n",
        "\\begin{array}{c}\n",
        "T_4 \\\\\n",
        "T_5 \\\\\n",
        "\\end{array}\n",
        "\\right) $$\n",
        "\n",
        "Summing all the integrals gives the following:\n",
        "\n",
        "$$ \\int_0^1 \\sum_{i,j} w_i {dN_i\\over dx} T_j {dN_j\\over dx} dx = {1\\over\\delta x} \n",
        "[\\begin{array}{cccc} \n",
        "w_0 & w_1 & \\cdots & w_n \n",
        "\\end{array}]\n",
        "\\left(\n",
        "\\begin{array}{cccccc}\n",
        "1 & -1 & 0 & 0 & 0 & \\cdots & 0 \\\\\n",
        "-1 & 2 & -1 & 0 & 0 & \\cdots & 0 \\\\\n",
        "0 & -1 & 2 & -1 & 0 & \\cdots & 0 \\\\\n",
        "\\cdots & & & & \\\\\n",
        "\\end{array}\\right)\n",
        "\\left(\n",
        "\\begin{array}{c}\n",
        "T_0 \\\\ T_1 \\\\ \\cdots \\\\ \\cdots \\\\ T_n\n",
        "\\end{array}\n",
        "\\right) = \\left(\\begin{array}{c}0\\\\0\\\\ \\cdot\\\\ \\cdot\\\\ 0 \\end{array}\\right)\n",
        "$$\n",
        "\n",
        "Because of the arbitrariness of $w(x)$ and hence $w_i$, we can consider each $w_i$ in turn, and assume all the other $w_{j\\neq i} = 0$. Each row of the matrix, multiplied by the vector $T$ must be zero in turn, and we can discard $w$ altogether. We have thus reduced the problem to a matrix equation $A.T = 0$ where $A$ in this case is tridiagonal. Note that we could have got the same matrix equation from a finite-difference approximation."
      ]
    },
    {
      "cell_type": "markdown",
      "metadata": {
        "collapsed": true,
        "id": "uGs5gmrvQSv9"
      },
      "source": [
        "#### Boundary Conditions\n",
        "Above, we ignored the $[w dT/dx]_0^1$ term, and so far, we haven't specified any boundary condition. Since $w$ is arbitrary, we can just let it be zero, and ignore this term. This is equivalent to a \"natural\" or \"Neumann\" boundary condition. If we wish to impose a hard or \"Dirichlet\" boundary condition, we will have to do something to our matrix above. For example, if we wish $T_0$ to be zero, we can clear the first row of the matrix, and set the diagonal to 1. Let's fully illustrate the example by solving the problem with the Dirichlet BCs described above."
      ]
    },
    {
      "cell_type": "code",
      "metadata": {
        "trusted": true,
        "id": "e-trvaHNQSv-",
        "outputId": "c5672609-dab3-4048-d4c9-e36406064c3c"
      },
      "source": [
        "# Set up matrix problem A.T = b (where T is the unknown temperature)\n",
        "\n",
        "# Full matrix, as shown above\n",
        "A = zeros((11, 11))\n",
        "# Element matrix, representing laplace operator on each element\n",
        "Ke = array([[1.0, -1.0], \n",
        "            [-1.0, 1.0]])\n",
        "# Insert element matrix into full matrix 10 times\n",
        "for i in range(10):\n",
        "    A[i:i+2, i:i+2] += Ke\n",
        "print('A = \\n', A, '\\n')\n",
        "\n",
        "# Right hand side vector (zero)\n",
        "b = zeros(11)\n",
        "\n",
        "# Introduce a source term on the RHS(!)\n",
        "b += 0\n",
        "\n",
        "# Clear a row and set diagonal to one, for Dirichlet BC\n",
        "# Set BC T=100 at x=0\n",
        "A[0, :] = 0.0\n",
        "A[0, 0] = 1.0\n",
        "b[0] = 100.0\n",
        "\n",
        "# Set BC T=0 at x=1\n",
        "A[10, :] = 0.0\n",
        "A[10, 10] = 1.0\n",
        "b[10] = 0.0\n",
        "\n",
        "print('Modified A = \\n', A, '\\n')\n",
        "print('RHS b = ', b)\n",
        "\n",
        "from numpy.linalg import solve\n",
        "T = solve(A, b)\n",
        "\n",
        "print('Solution T =', T)"
      ],
      "execution_count": null,
      "outputs": [
        {
          "output_type": "stream",
          "text": [
            "A = \n",
            " [[ 1.00 -1.00  0.00  0.00  0.00  0.00  0.00  0.00  0.00  0.00  0.00]\n",
            " [-1.00  2.00 -1.00  0.00  0.00  0.00  0.00  0.00  0.00  0.00  0.00]\n",
            " [ 0.00 -1.00  2.00 -1.00  0.00  0.00  0.00  0.00  0.00  0.00  0.00]\n",
            " [ 0.00  0.00 -1.00  2.00 -1.00  0.00  0.00  0.00  0.00  0.00  0.00]\n",
            " [ 0.00  0.00  0.00 -1.00  2.00 -1.00  0.00  0.00  0.00  0.00  0.00]\n",
            " [ 0.00  0.00  0.00  0.00 -1.00  2.00 -1.00  0.00  0.00  0.00  0.00]\n",
            " [ 0.00  0.00  0.00  0.00  0.00 -1.00  2.00 -1.00  0.00  0.00  0.00]\n",
            " [ 0.00  0.00  0.00  0.00  0.00  0.00 -1.00  2.00 -1.00  0.00  0.00]\n",
            " [ 0.00  0.00  0.00  0.00  0.00  0.00  0.00 -1.00  2.00 -1.00  0.00]\n",
            " [ 0.00  0.00  0.00  0.00  0.00  0.00  0.00  0.00 -1.00  2.00 -1.00]\n",
            " [ 0.00  0.00  0.00  0.00  0.00  0.00  0.00  0.00  0.00 -1.00  1.00]] \n",
            "\n",
            "Modified A = \n",
            " [[ 1.00  0.00  0.00  0.00  0.00  0.00  0.00  0.00  0.00  0.00  0.00]\n",
            " [-1.00  2.00 -1.00  0.00  0.00  0.00  0.00  0.00  0.00  0.00  0.00]\n",
            " [ 0.00 -1.00  2.00 -1.00  0.00  0.00  0.00  0.00  0.00  0.00  0.00]\n",
            " [ 0.00  0.00 -1.00  2.00 -1.00  0.00  0.00  0.00  0.00  0.00  0.00]\n",
            " [ 0.00  0.00  0.00 -1.00  2.00 -1.00  0.00  0.00  0.00  0.00  0.00]\n",
            " [ 0.00  0.00  0.00  0.00 -1.00  2.00 -1.00  0.00  0.00  0.00  0.00]\n",
            " [ 0.00  0.00  0.00  0.00  0.00 -1.00  2.00 -1.00  0.00  0.00  0.00]\n",
            " [ 0.00  0.00  0.00  0.00  0.00  0.00 -1.00  2.00 -1.00  0.00  0.00]\n",
            " [ 0.00  0.00  0.00  0.00  0.00  0.00  0.00 -1.00  2.00 -1.00  0.00]\n",
            " [ 0.00  0.00  0.00  0.00  0.00  0.00  0.00  0.00 -1.00  2.00 -1.00]\n",
            " [ 0.00  0.00  0.00  0.00  0.00  0.00  0.00  0.00  0.00  0.00  1.00]] \n",
            "\n",
            "RHS b =  [100.00  0.00  0.00  0.00  0.00  0.00  0.00  0.00  0.00  0.00  0.00]\n",
            "Solution T = [100.00 90.00 80.00 70.00 60.00 50.00 40.00 30.00 20.00 10.00  0.00]\n"
          ],
          "name": "stdout"
        }
      ]
    },
    {
      "cell_type": "markdown",
      "metadata": {
        "id": "_CILghlYQSwD"
      },
      "source": [
        "As predicted, the solution is linear."
      ]
    },
    {
      "cell_type": "code",
      "metadata": {
        "trusted": true,
        "id": "G9xk42hxQSwE",
        "outputId": "18bc0919-fd9c-4fd2-a70b-ed43b50882da"
      },
      "source": [
        "x = linspace(0.0, 1.0, 11)\n",
        "plt.plot(x,T)\n",
        "plt.show()"
      ],
      "execution_count": null,
      "outputs": [
        {
          "output_type": "display_data",
          "data": {
            "image/png": "[encoded data removed]",
            "text/plain": [
              "<matplotlib.figure.Figure at 0x7ff9e0d58240>"
            ]
          },
          "metadata": {
            "tags": []
          }
        }
      ]
    },
    {
      "cell_type": "code",
      "metadata": {
        "trusted": true,
        "id": "5RHkYEr-QSwJ"
      },
      "source": [
        ""
      ],
      "execution_count": null,
      "outputs": []
    }
  ]
}